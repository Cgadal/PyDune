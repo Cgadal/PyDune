{
  "cells": [
    {
      "cell_type": "code",
      "execution_count": null,
      "metadata": {
        "collapsed": false
      },
      "outputs": [],
      "source": [
        "%matplotlib inline"
      ]
    },
    {
      "cell_type": "markdown",
      "metadata": {},
      "source": [
        "\n# From wind data to sand fluxes and dune orientations\n"
      ]
    },
    {
      "cell_type": "code",
      "execution_count": null,
      "metadata": {
        "collapsed": false
      },
      "outputs": [],
      "source": [
        "import numpy as np\nimport matplotlib.pyplot as plt\nfrom PyDune.data_processing.meteorological.downloadCDS import load_netcdf\nfrom PyDune.data_processing.meteorological.wind_plot import velocity_to_shear, plot_flux_rose, plot_wind_rose, make_angular_PDF\nfrom PyDune.math import cartesian_to_polar\nfrom PyDune.physics.sedtransport.transport_laws import quartic_transport_law\nfrom PyDune.physics.dune.courrechdupont2014 import elongation_direction, bed_instability_orientation"
      ]
    },
    {
      "cell_type": "markdown",
      "metadata": {},
      "source": [
        "We first load the data, and caculate the shear velocity using the law of the wall:\n\n\n"
      ]
    },
    {
      "cell_type": "code",
      "execution_count": null,
      "metadata": {
        "collapsed": false
      },
      "outputs": [],
      "source": [
        "data = load_netcdf(['src/ERA5LAND_winddata.nc'])\nz_ERA = 10  # height of wind data in the dataset, [m]\n#\nvelocity, orientation = cartesian_to_polar(data['u10'][:, 0, 0], data['v10'][:, 0, 0])\nshear_velocity = velocity_to_shear(velocity, 10)\n\n# figure\nbins_shear = [0, 0.1, 0.15, 0.2, 0.25, 0.3, 0.35]\nbins = [0, 1.5, 3, 4.5, 6, 7.5]\nbbox_label = dict(boxstyle='round', facecolor=(0, 0, 0, 0.15), edgecolor=(0, 0, 0, 1))\n\nfig, axarr = plt.subplots(1, 2, constrained_layout=True)\na = plot_wind_rose(orientation, velocity, bins, axarr[0], fig, opening=1,\n                   nsector=25, cmap=plt.cm.viridis, legend=True, label='velocity (10m) [m/s]',\n                   props=bbox_label)\na.set_legend(bbox_to_anchor=(-0.15, -0.15))\na = plot_wind_rose(orientation, shear_velocity, bins_shear, axarr[1], fig, opening=1,\n                   nsector=25, cmap=plt.cm.viridis, legend=True, label='shear velocity [m/s]',\n                   props=bbox_label)\na.set_legend(bbox_to_anchor=(-0.15, -0.15))\nplt.show()"
      ]
    },
    {
      "cell_type": "markdown",
      "metadata": {},
      "source": [
        "We then calculate sand fluxes using the quartic law:\n\n"
      ]
    },
    {
      "cell_type": "code",
      "execution_count": null,
      "metadata": {
        "collapsed": false
      },
      "outputs": [],
      "source": [
        "# # Parameters\nsectoday = 24*3600\nrho_g = 2.65e3  # grain density\nrho_f = 1   # fluid density\ng = 9.81  # [m/s2]\ngrain_diameters = 180e-6  # grain size [m]\nQ = np.sqrt((rho_g - rho_f*g*grain_diameters)/rho_f)*grain_diameters  # characteristic flux [m2/s]\nshield_th_quartic = 0.0035    # threshold shield numbers for the quartic\n\nshield = (rho_f/((rho_g - rho_f)*g*grain_diameters))*shear_velocity**2  # shield number\nsand_flux = Q*quartic_transport_law(shield, shield_th_quartic)*sectoday  # dimensional sand flux, [m2/day]\nangular_PDF, angles = make_angular_PDF(orientation, sand_flux)\n\n# figure\nbins_flux = [0, 0.3, 0.6, 0.9, 1.2, 1.5]\nfig, axarr = plt.subplots(1, 2, constrained_layout=True)\na = plot_wind_rose(orientation, sand_flux, bins, axarr[0], fig, opening=1,\n                   nsector=25, cmap=plt.cm.viridis, legend=True, label='sand fluxes [m2/day]',\n                   props=bbox_label)\na.set_legend(bbox_to_anchor=(-0.15, -0.15))\na = plot_flux_rose(angles, angular_PDF, axarr[1], fig, opening=1,\n                   label='angular distribution', nsector=25,\n                   props=bbox_label)\nplt.show()"
      ]
    },
    {
      "cell_type": "markdown",
      "metadata": {},
      "source": [
        "We then compute the two possible dune orientations:\n\n"
      ]
    },
    {
      "cell_type": "code",
      "execution_count": null,
      "metadata": {
        "collapsed": false
      },
      "outputs": [],
      "source": [
        "Alpha_E = elongation_direction(angles, angular_PDF)\nAlpha_BI = bed_instability_orientation(angles, angular_PDF)\n\nprint(r'$\\alpha_{{\\textup{{E}}}}={: .0f}~ ^ {{\\circ}}$, $\\alpha_{{\\textup{{BI}}}}={: .0f}~ ^ {{\\circ}}$'.format(Alpha_E, Alpha_BI))"
      ]
    }
  ],
  "metadata": {
    "kernelspec": {
      "display_name": "Python 3",
      "language": "python",
      "name": "python3"
    },
    "language_info": {
      "codemirror_mode": {
        "name": "ipython",
        "version": 3
      },
      "file_extension": ".py",
      "mimetype": "text/x-python",
      "name": "python",
      "nbconvert_exporter": "python",
      "pygments_lexer": "ipython3",
      "version": "3.8.10"
    }
  },
  "nbformat": 4,
  "nbformat_minor": 0
}