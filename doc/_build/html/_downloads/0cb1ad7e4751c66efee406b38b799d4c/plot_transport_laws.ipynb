{
  "cells": [
    {
      "cell_type": "code",
      "execution_count": null,
      "metadata": {
        "collapsed": false
      },
      "outputs": [],
      "source": [
        "%matplotlib inline"
      ]
    },
    {
      "cell_type": "markdown",
      "metadata": {},
      "source": [
        "\n# Transport laws\n\nCreate a plot comparing the different transport laws.\n"
      ]
    },
    {
      "cell_type": "code",
      "execution_count": null,
      "metadata": {
        "collapsed": false
      },
      "outputs": [],
      "source": [
        "import matplotlib.pyplot as plt\nimport numpy as np\nfrom PyDune.physics.sedtransport import transport_laws as TL\n\n\ntheta = np.linspace(0, 0.8, 1000)\ntheta_d = 0.035\nomega = 8\n\n\nplt.figure()\nplt.plot(theta, TL.quadratic_transport_law(theta, theta_d, omega), label='quadratic transport law')\nplt.plot(theta, TL.cubic_transport_law(theta, theta_d, omega), label='cubic transport law')\nplt.plot(theta, TL.quartic_transport_law(theta, theta_d), label='cubic transport law')\nplt.xlabel('Shield number')\nplt.ylabel('Non dimensional saturated flux')\nplt.legend()\nplt.tight_layout()\nplt.show()"
      ]
    }
  ],
  "metadata": {
    "kernelspec": {
      "display_name": "Python 3",
      "language": "python",
      "name": "python3"
    },
    "language_info": {
      "codemirror_mode": {
        "name": "ipython",
        "version": 3
      },
      "file_extension": ".py",
      "mimetype": "text/x-python",
      "name": "python",
      "nbconvert_exporter": "python",
      "pygments_lexer": "ipython3",
      "version": "3.8.10"
    }
  },
  "nbformat": 4,
  "nbformat_minor": 0
}