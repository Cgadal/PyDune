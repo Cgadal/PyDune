{
  "cells": [
    {
      "cell_type": "code",
      "execution_count": null,
      "metadata": {
        "collapsed": false
      },
      "outputs": [],
      "source": [
        "%matplotlib inline"
      ]
    },
    {
      "cell_type": "markdown",
      "metadata": {},
      "source": [
        "\n# Dune orientations\n\nCalculating the dune orientations from the two dune growth mechanisms\n"
      ]
    },
    {
      "cell_type": "code",
      "execution_count": null,
      "metadata": {
        "collapsed": false
      },
      "outputs": [],
      "source": [
        "import matplotlib.pyplot as plt\nimport numpy as np\nimport sys\n\nsys.path.append('../')\nfrom PyDune.Physics.Dune import CourrechDuPont2014 as CDP\n\n\ntheta = np.array([0, 120])\nQ0 = np.array([5, 1])\nalpha = np.arange(0, 361)\n\nr\"\"\"\n## Elongation direction\n\"\"\"\n\nflux_perp = CDP.Resultant_flux_perp_crest_at_crest(alpha[:, None], theta[None, :], Q0[None, :])\nflux_aligned = CDP.Resultant_flux_aligned_crest_at_crest(alpha[:, None], theta[None, :], Q0[None, :])\nalpha_E = CDP.Elongation_direction(theta, Q0)\n\nfig, ax = plt.subplots(1, 1, constrained_layout=True)\nax.plot(alpha, flux_perp, label='Flux perp.')\nax.plot(alpha, flux_aligned, label='Flux aligned')\nax.axhline(0, color='k', ls='--', lw=1)\nax.axvline(alpha_E, color='k', ls='--', lw=1)\nax.set_xlim(0, 360)\nax.set_xlabel('Crest orientation [deg.]')\nax.set_ylabel('Fluxes [-]')\nfig.show()\n\n\nr\"\"\"\n## MGBNT orientation\n\"\"\"\n\nalpha = np.arange(0, 181)\n\nsigma = CDP.Growth_rate(alpha[:, None], theta[None, :], Q0[None, :])\nalpha_MGBNT = CDP.Bed_Instability_Orientation(theta, Q0)\n\nfig, ax = plt.subplots(1, 1, constrained_layout=True)\nax.plot(alpha, sigma)\nax.axhline(sigma.max(), color='k', ls='--', lw=1)\nax.axvline(alpha_MGBNT, color='k', ls='--', lw=1)\nax.set_xlim(0, 180)\nax.set_xlabel('Crest orientation [deg.]')\nax.set_ylabel(r'Growth rate [-]')\nfig.show()"
      ]
    }
  ],
  "metadata": {
    "kernelspec": {
      "display_name": "Python 3",
      "language": "python",
      "name": "python3"
    },
    "language_info": {
      "codemirror_mode": {
        "name": "ipython",
        "version": 3
      },
      "file_extension": ".py",
      "mimetype": "text/x-python",
      "name": "python",
      "nbconvert_exporter": "python",
      "pygments_lexer": "ipython3",
      "version": "3.8.10"
    }
  },
  "nbformat": 4,
  "nbformat_minor": 0
}